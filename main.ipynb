{
 "cells": [
  {
   "attachments": {},
   "cell_type": "markdown",
   "metadata": {},
   "source": [
    "# Proyecto 3 - BD2"
   ]
  },
  {
   "attachments": {},
   "cell_type": "markdown",
   "metadata": {},
   "source": [
    "Importamos la libería face_recognition y probamos que efectivamente detecte si 2 rostros son iguales."
   ]
  },
  {
   "cell_type": "code",
   "execution_count": 10,
   "metadata": {},
   "outputs": [
    {
     "name": "stdout",
     "output_type": "stream",
     "text": [
      "[True]\n",
      "[False]\n"
     ]
    }
   ],
   "source": [
    "import face_recognition\n",
    "\n",
    "path1 = \"./vindiesel.jpg\"\n",
    "path2 = \"./vindiesel2.jpg\"\n",
    "path3 = \"./michelleRodriguez.jpg\"\n",
    "\n",
    "image1 = face_recognition.load_image_file(path1)\n",
    "image2 = face_recognition.load_image_file(path2)\n",
    "image3 = face_recognition.load_image_file(path3)\n",
    "\n",
    "face_encoding1 = face_recognition.face_encodings(image1)[0]\n",
    "face_encoding2 = face_recognition.face_encodings(image2)[0]\n",
    "face_encoding3 = face_recognition.face_encodings(image3)[0]\n",
    "\n",
    "comp1 = face_recognition.compare_faces([face_encoding2], face_encoding1)\n",
    "comp2 = face_recognition.compare_faces([face_encoding3], face_encoding1)\n",
    "\n",
    "print(comp1)\n",
    "print(comp2)\n"
   ]
  },
  {
   "attachments": {},
   "cell_type": "markdown",
   "metadata": {},
   "source": [
    "Hemos confirmado que la librería funciona. Ahora, implementamos la búsqueda secuencial. Para ello, utilizaremos un maxHeap que guarde en su raíz siempre al k peor candidato. Cuando venga un mejor candidato, podremos hacer pop del k peor candidato e insertar en el heap al nuevo candidato en la posición a la que corresponda."
   ]
  },
  {
   "cell_type": "code",
   "execution_count": 19,
   "metadata": {},
   "outputs": [
    {
     "name": "stdout",
     "output_type": "stream",
     "text": [
      "Las 5 mejores coincidencias de rostros son: [(0.0, 'AJ_Cook'), (0.7326286046623673, 'Agnes_Bruckner'), (0.7612283762418859, 'Aaron_Guiel'), (0.7845939997728305, 'Afton_Smith'), (0.7905119064520651, 'Aileen_Riggin_Soule')]\n"
     ]
    }
   ],
   "source": [
    "import os\n",
    "import heapq        #en python no hay implementación de un maxheap, para ello multiplicaremos por -1 las distancias en el heap\n",
    "\n",
    "def sequential_knn(k, target_face_encoding):\n",
    "    dataset_path = \"./lfw-chikito\"\n",
    "    face_encodings = []\n",
    "\n",
    "    # Recorre las subcarpetas del dataset\n",
    "    for person_folder in os.listdir(dataset_path):\n",
    "        person_folder_path = os.path.join(dataset_path, person_folder)\n",
    "\n",
    "        # Recorre las imágenes de cada persona\n",
    "        for image_file in os.listdir(person_folder_path):\n",
    "            image_path = os.path.join(person_folder_path, image_file)\n",
    "\n",
    "            # Carga la imagen y extrae el código de codificación facial\n",
    "            image = face_recognition.load_image_file(image_path)\n",
    "            face_locations = face_recognition.face_locations(image)\n",
    "\n",
    "            # Verifica si se detectó al menos una cara en la imagen\n",
    "            if len(face_locations) > 0:\n",
    "                encoding = face_recognition.face_encodings(image, face_locations)[0]\n",
    "\n",
    "                # Calcula la distancia entre el código de codificación facial objetivo y el actual\n",
    "                distance = -face_recognition.face_distance([target_face_encoding], encoding)[0]  # Invierte el signo tal que el mayor del heap siempre estará en la raíz\n",
    "\n",
    "                # Si el heap no tiene k elementos, agrega el candidato actual\n",
    "                if len(face_encodings) < k:\n",
    "                    heapq.heappush(face_encodings, (distance, person_folder))\n",
    "                else:\n",
    "                    #\n",
    "                    if abs(distance) < abs(face_encodings[0][0]):  # si la distancia del candidato es menor al mayor del heap,\n",
    "                        heapq.heappushpop(face_encodings, (distance, person_folder))    #quita el mayor e inserta el candidato\n",
    "\n",
    "\n",
    "    # Multiplicar por -1 a las distancias para regresarlas a la normalidad\n",
    "    face_encodings = [(-x, y) for x, y in face_encodings]\n",
    "\n",
    "    # Ordenar los resultados por distancia de manera ascendente. Es necesario porque estoy usando maxHeap\n",
    "    top_k_faces = sorted(face_encodings, key=lambda x: abs(x[0]))\n",
    "\n",
    "    return top_k_faces\n",
    "\n",
    "\n",
    "# Cargar la imagen de la persona que se busca\n",
    "target_image_path = \"./lfw-chikito/AJ_Cook/AJ_Cook_0001.jpg\"\n",
    "target_image = face_recognition.load_image_file(target_image_path)\n",
    "target_face_encoding = face_recognition.face_encodings(target_image)[0]\n",
    "\n",
    "# Definir el valor de k (por ejemplo, 5)\n",
    "k = 5\n",
    "\n",
    "# Realizar la búsqueda secuencial KNN\n",
    "top_k_faces = sequential_knn(k, target_face_encoding)\n",
    "\n",
    "# Imprimir los resultados\n",
    "print(f\"Las {k} mejores coincidencias de rostros son: {top_k_faces}\")"
   ]
  }
 ],
 "metadata": {
  "kernelspec": {
   "display_name": "Python 3",
   "language": "python",
   "name": "python3"
  },
  "language_info": {
   "codemirror_mode": {
    "name": "ipython",
    "version": 3
   },
   "file_extension": ".py",
   "mimetype": "text/x-python",
   "name": "python",
   "nbconvert_exporter": "python",
   "pygments_lexer": "ipython3",
   "version": "3.10.9"
  },
  "orig_nbformat": 4
 },
 "nbformat": 4,
 "nbformat_minor": 2
}
